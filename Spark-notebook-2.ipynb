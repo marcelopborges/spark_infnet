{
 "cells": [
  {
   "cell_type": "markdown",
   "id": "de93b766-6c09-4317-b3b3-a8ce1df44b44",
   "metadata": {
    "tags": []
   },
   "source": [
    "### Motivação"
   ]
  },
  {
   "cell_type": "markdown",
   "id": "b3a2fb7d-4ecf-4372-8e15-99beffd99b7b",
   "metadata": {},
   "source": [
    "Trabalho de conclusão de módulo no qual foi solicitado:\n",
    "\n",
    "**Desenvolva um notebook bem documentado em Python utilizando a biblioteca PySpark para treinar um modelo de aprendizado de máquina**\n",
    "\n",
    "* Contextualize bem o problema e os dados disponíveis, assim como o algoritmo ou técnica que será utilizada (regressão linear, regressão logística, clusterização, etc.) \n",
    "* Mostre o tratamento realizado no dataframe\n",
    "* Divida os dados em dois conjuntos diferentes: um de treinamento e outro de teste\n",
    "* Treine um modelo e apresente métricas de desempenho do modelo gerado\n",
    "* Aplique o modelo na base de teste e compare o desempenho com a base de treinamento\n",
    "* Proponha sugestões para melhorar a qualidade do modelo e, se for possível, teste se essas sugestões melhoram o primeiro resultado obtido\n"
   ]
  },
  {
   "cell_type": "markdown",
   "id": "14205d7d-5c9c-4f4f-a618-d9a7cedd9121",
   "metadata": {
    "tags": []
   },
   "source": [
    "### Definição da database"
   ]
  },
  {
   "cell_type": "markdown",
   "id": "9dadc841-691f-4521-94a2-20f76c550908",
   "metadata": {},
   "source": [
    "The Challenge: Predict student's drop\n",
    "🎯 **You have to predict whether the user (student) will be able to successfully complete an online (university) course.**\n",
    "\n",
    "- Data description:\n",
    "    * events_train.csv - data on actions performed by students with steps\n",
    "    * step_id - step id\n",
    "    * user_id - anonymized user id\n",
    "    * timestamp - time of occurrence of the event in unix date format\n",
    "    * action - event, possible values:\n",
    "    * discovered - the user switched to step\n",
    "    * viewed - view step,\n",
    "    * started_attempt - the beginning of an attempt to solve a step\n",
    "    * passed - a good solution to a practical step\n",
    "\n",
    "- submissions_train.csv - data on the time and status of submissions for practical tasks\n",
    "    * step_id - step ID\n",
    "    * timestamp - time of sending the solution in unix date format\n",
    "    * submission_status - decision status\n",
    "    * user_id - anonymized user id\n",
    "    \n",
    "Fonte do dataset: https://www.kaggle.com/datasets/kapturovalexander/predict-students-drop-out-of-the-course"
   ]
  },
  {
   "cell_type": "markdown",
   "id": "4f4c3c2e-7555-4074-b017-a46a1e14a175",
   "metadata": {
    "tags": []
   },
   "source": [
    "### Imports and sessions"
   ]
  },
  {
   "cell_type": "code",
   "execution_count": 1,
   "id": "91102428-2ac4-44e0-911a-d3cf472a855e",
   "metadata": {
    "tags": []
   },
   "outputs": [],
   "source": [
    "from pyspark.sql import SparkSession\n",
    "from pyspark.ml.classification import LogisticRegression\n",
    "from pyspark.ml.feature import VectorAssembler\n",
    "from pyspark.sql import functions as F\n",
    "from pyspark.ml.evaluation import BinaryClassificationEvaluator\n",
    "from pyspark.sql.functions import col\n",
    "from pyspark.sql.window import Window\n"
   ]
  },
  {
   "cell_type": "markdown",
   "id": "b51f316c-27e0-4082-967c-e5a0a194d017",
   "metadata": {},
   "source": [
    "Criando sessão spark"
   ]
  },
  {
   "cell_type": "code",
   "execution_count": 2,
   "id": "177bd05c-ac08-4c17-98d8-1c0963fe33e5",
   "metadata": {
    "tags": []
   },
   "outputs": [
    {
     "name": "stderr",
     "output_type": "stream",
     "text": [
      "23/10/15 21:17:56 WARN Utils: Your hostname, pop-os resolves to a loopback address: 127.0.1.1; using 192.168.2.15 instead (on interface wlo1)\n",
      "23/10/15 21:17:56 WARN Utils: Set SPARK_LOCAL_IP if you need to bind to another address\n",
      "Setting default log level to \"WARN\".\n",
      "To adjust logging level use sc.setLogLevel(newLevel). For SparkR, use setLogLevel(newLevel).\n",
      "23/10/15 21:17:56 WARN NativeCodeLoader: Unable to load native-hadoop library for your platform... using builtin-java classes where applicable\n",
      "23/10/15 21:17:57 WARN Utils: Service 'SparkUI' could not bind on port 4040. Attempting port 4041.\n",
      "23/10/15 21:17:57 WARN Utils: Service 'SparkUI' could not bind on port 4041. Attempting port 4042.\n",
      "23/10/15 21:17:57 WARN Utils: Service 'SparkUI' could not bind on port 4042. Attempting port 4043.\n"
     ]
    }
   ],
   "source": [
    "spark = SparkSession.builder.appName('prediction').getOrCreate()"
   ]
  },
  {
   "cell_type": "markdown",
   "id": "3b6c117e-8971-4436-95a9-11cff6c59c98",
   "metadata": {},
   "source": [
    "Lendo os datasets"
   ]
  },
  {
   "cell_type": "code",
   "execution_count": 3,
   "id": "3ac8ac99-9d27-474a-a620-ecc756d03b95",
   "metadata": {
    "tags": []
   },
   "outputs": [
    {
     "name": "stderr",
     "output_type": "stream",
     "text": [
      "                                                                                \r"
     ]
    }
   ],
   "source": [
    "events_df = spark.read.csv('./students/event_data_train.csv', header=True, inferSchema=True)\n",
    "submissions_df = spark.read.csv('./students/submissions_data_train.csv', header=True, inferSchema=True)"
   ]
  },
  {
   "cell_type": "markdown",
   "id": "093da513-8421-4846-9d42-326836b51610",
   "metadata": {
    "tags": []
   },
   "source": [
    "### EDA"
   ]
  },
  {
   "cell_type": "markdown",
   "id": "da21b896-4c2d-4231-8529-fc4301027bc0",
   "metadata": {
    "tags": []
   },
   "source": [
    "#### Verificação dos dados"
   ]
  },
  {
   "cell_type": "code",
   "execution_count": 4,
   "id": "7980fb4e-cfa2-48e8-8479-9b8d97fff28a",
   "metadata": {
    "tags": []
   },
   "outputs": [
    {
     "name": "stdout",
     "output_type": "stream",
     "text": [
      "+-------+----------+----------+-------+\n",
      "|step_id| timestamp|    action|user_id|\n",
      "+-------+----------+----------+-------+\n",
      "|  32815|1434340848|    viewed|  17632|\n",
      "|  32815|1434340848|    passed|  17632|\n",
      "|  32815|1434340848|discovered|  17632|\n",
      "|  32811|1434340895|discovered|  17632|\n",
      "|  32811|1434340895|    viewed|  17632|\n",
      "+-------+----------+----------+-------+\n",
      "only showing top 5 rows\n",
      "\n"
     ]
    }
   ],
   "source": [
    "events_df.show(5)"
   ]
  },
  {
   "cell_type": "code",
   "execution_count": 5,
   "id": "ed1c90e9-aa30-4dbe-b533-54d3bdd0e289",
   "metadata": {
    "tags": []
   },
   "outputs": [
    {
     "name": "stdout",
     "output_type": "stream",
     "text": [
      "+-------+----------+-----------------+-------+\n",
      "|step_id| timestamp|submission_status|user_id|\n",
      "+-------+----------+-----------------+-------+\n",
      "|  31971|1434349275|          correct|  15853|\n",
      "|  31972|1434348300|          correct|  15853|\n",
      "|  31972|1478852149|            wrong|  15853|\n",
      "|  31972|1478852164|          correct|  15853|\n",
      "|  31976|1434348123|            wrong|  15853|\n",
      "+-------+----------+-----------------+-------+\n",
      "only showing top 5 rows\n",
      "\n"
     ]
    }
   ],
   "source": [
    "submissions_df.show(5)"
   ]
  },
  {
   "cell_type": "code",
   "execution_count": null,
   "id": "d5eeb3fa-937f-4cf3-8ad1-e1be50e3a004",
   "metadata": {
    "tags": []
   },
   "outputs": [],
   "source": []
  },
  {
   "cell_type": "markdown",
   "id": "49703c10-33ca-4b1e-95d8-82af3ee4cff0",
   "metadata": {},
   "source": [
    "#### Verificação dtypes"
   ]
  },
  {
   "cell_type": "code",
   "execution_count": 6,
   "id": "af015069-6520-4052-a5cf-9ea99bbac473",
   "metadata": {
    "tags": []
   },
   "outputs": [
    {
     "data": {
      "text/plain": [
       "[('step_id', 'int'),\n",
       " ('timestamp', 'int'),\n",
       " ('action', 'string'),\n",
       " ('user_id', 'int')]"
      ]
     },
     "execution_count": 6,
     "metadata": {},
     "output_type": "execute_result"
    }
   ],
   "source": [
    "events_df.dtypes"
   ]
  },
  {
   "cell_type": "code",
   "execution_count": 7,
   "id": "553d8479-8598-4096-9090-674096c1f14f",
   "metadata": {
    "tags": []
   },
   "outputs": [
    {
     "data": {
      "text/plain": [
       "[('step_id', 'int'),\n",
       " ('timestamp', 'int'),\n",
       " ('submission_status', 'string'),\n",
       " ('user_id', 'int')]"
      ]
     },
     "execution_count": 7,
     "metadata": {},
     "output_type": "execute_result"
    }
   ],
   "source": [
    "submissions_df.dtypes"
   ]
  },
  {
   "cell_type": "markdown",
   "id": "a7ccbee9-3f46-4d4f-8c15-5c6a272facba",
   "metadata": {},
   "source": [
    "*Identificamos que a coluna timestamp dos 2 datasets estão em formato int, onde devería ser timestamp."
   ]
  },
  {
   "cell_type": "code",
   "execution_count": 8,
   "id": "d6ffe481-4dfa-4e6d-adfe-2643fef60f48",
   "metadata": {
    "tags": []
   },
   "outputs": [],
   "source": [
    "events_df = events_df.withColumn(\"timestamp\", F.from_unixtime(F.col(\"timestamp\")))\n",
    "submissions_df = submissions_df.withColumn(\"timestamp\", F.from_unixtime(F.col(\"timestamp\")))\n"
   ]
  },
  {
   "cell_type": "markdown",
   "id": "7314443b-af22-47f1-8b11-e0f82b8595bb",
   "metadata": {
    "tags": []
   },
   "source": [
    "*Verificando os dtypes novamente*"
   ]
  },
  {
   "cell_type": "code",
   "execution_count": 9,
   "id": "81647034-ac9b-49c6-bffd-e880e88b69d4",
   "metadata": {
    "tags": []
   },
   "outputs": [
    {
     "name": "stdout",
     "output_type": "stream",
     "text": [
      "+-------+-------------------+----------+-------+\n",
      "|step_id|          timestamp|    action|user_id|\n",
      "+-------+-------------------+----------+-------+\n",
      "|  32815|2015-06-15 01:00:48|    viewed|  17632|\n",
      "|  32815|2015-06-15 01:00:48|    passed|  17632|\n",
      "|  32815|2015-06-15 01:00:48|discovered|  17632|\n",
      "|  32811|2015-06-15 01:01:35|discovered|  17632|\n",
      "|  32811|2015-06-15 01:01:35|    viewed|  17632|\n",
      "+-------+-------------------+----------+-------+\n",
      "only showing top 5 rows\n",
      "\n"
     ]
    }
   ],
   "source": [
    "events_df.show(5)"
   ]
  },
  {
   "cell_type": "code",
   "execution_count": 10,
   "id": "8fb4d9b7-c136-48c4-8f2a-23f4dd655478",
   "metadata": {
    "tags": []
   },
   "outputs": [
    {
     "name": "stdout",
     "output_type": "stream",
     "text": [
      "+-------+-------------------+-----------------+-------+\n",
      "|step_id|          timestamp|submission_status|user_id|\n",
      "+-------+-------------------+-----------------+-------+\n",
      "|  31971|2015-06-15 03:21:15|          correct|  15853|\n",
      "|  31972|2015-06-15 03:05:00|          correct|  15853|\n",
      "|  31972|2016-11-11 06:15:49|            wrong|  15853|\n",
      "|  31972|2016-11-11 06:16:04|          correct|  15853|\n",
      "|  31976|2015-06-15 03:02:03|            wrong|  15853|\n",
      "+-------+-------------------+-----------------+-------+\n",
      "only showing top 5 rows\n",
      "\n"
     ]
    }
   ],
   "source": [
    "submissions_df.show(5)"
   ]
  },
  {
   "cell_type": "markdown",
   "id": "d31ca6c7-a900-4b52-a255-82c8b3d6eba6",
   "metadata": {},
   "source": [
    "*Verificando se há valores nulos*"
   ]
  },
  {
   "cell_type": "markdown",
   "id": "106c9b6f-0013-46d0-a19d-744e16d3fa18",
   "metadata": {},
   "source": [
    "*Esta list comprehension se lê da seguinte forma (vou tentar ser o mais didático possível) **Count** em todas as linhas, **when** a **col** 'c' for nula (isNull) fazer isto para cada coluna no dataframe*"
   ]
  },
  {
   "cell_type": "code",
   "execution_count": 11,
   "id": "d1ac93be-a2f2-4e4e-95e5-962246c0c2d4",
   "metadata": {
    "tags": []
   },
   "outputs": [
    {
     "name": "stderr",
     "output_type": "stream",
     "text": [
      "[Stage 8:===>                                                     (1 + 15) / 16]\r"
     ]
    },
    {
     "name": "stdout",
     "output_type": "stream",
     "text": [
      "+-------+---------+------+-------+\n",
      "|step_id|timestamp|action|user_id|\n",
      "+-------+---------+------+-------+\n",
      "|      0|        0|     0|      0|\n",
      "+-------+---------+------+-------+\n",
      "\n"
     ]
    },
    {
     "name": "stderr",
     "output_type": "stream",
     "text": [
      "                                                                                \r"
     ]
    }
   ],
   "source": [
    "events_df.select([F.count(F.when(F.col(c).isNull(), c)).alias(c) for c in events_df.columns]).show()"
   ]
  },
  {
   "cell_type": "code",
   "execution_count": 12,
   "id": "c74f2f49-8e49-4755-9df9-59250b953fb7",
   "metadata": {
    "tags": []
   },
   "outputs": [
    {
     "name": "stdout",
     "output_type": "stream",
     "text": [
      "+-------+---------+-----------------+-------+\n",
      "|step_id|timestamp|submission_status|user_id|\n",
      "+-------+---------+-----------------+-------+\n",
      "|      0|        0|                0|      0|\n",
      "+-------+---------+-----------------+-------+\n",
      "\n"
     ]
    }
   ],
   "source": [
    "submissions_df.select([F.count(F.when(F.col(c).isNull(), c)).alias(c) for c in submissions_df.columns]).show()"
   ]
  },
  {
   "cell_type": "markdown",
   "id": "0b4a361c-224c-4f32-b4aa-69c3c7def343",
   "metadata": {},
   "source": [
    "*Verificando estatísticas / describe*"
   ]
  },
  {
   "cell_type": "code",
   "execution_count": 13,
   "id": "9679ffc4-6416-4a11-97be-530d66e59cd4",
   "metadata": {
    "tags": []
   },
   "outputs": [
    {
     "name": "stderr",
     "output_type": "stream",
     "text": [
      "23/10/15 21:18:03 WARN package: Truncated the string representation of a plan since it was too large. This behavior can be adjusted by setting 'spark.sql.debug.maxToStringFields'.\n",
      "[Stage 14:=======>                                                (2 + 14) / 16]\r"
     ]
    },
    {
     "name": "stdout",
     "output_type": "stream",
     "text": [
      "+-------+------------------+-------------------+----------+------------------+\n",
      "|summary|           step_id|          timestamp|    action|           user_id|\n",
      "+-------+------------------+-------------------+----------+------------------+\n",
      "|  count|           3480703|            3480703|   3480703|           3480703|\n",
      "|   mean| 34873.57537572151|               null|      null|13314.677731193957|\n",
      "| stddev|14222.427500816966|               null|      null| 7779.098635540632|\n",
      "|    min|             30456|2015-06-15 01:00:48|discovered|                 1|\n",
      "|    max|            158433|2018-05-19 20:33:31|    viewed|             26798|\n",
      "+-------+------------------+-------------------+----------+------------------+\n",
      "\n"
     ]
    },
    {
     "name": "stderr",
     "output_type": "stream",
     "text": [
      "                                                                                \r"
     ]
    }
   ],
   "source": [
    "events_df.describe().show()"
   ]
  },
  {
   "cell_type": "code",
   "execution_count": 14,
   "id": "16957e0b-9ce6-4d1b-b2ca-7959e7e9e4b6",
   "metadata": {
    "tags": []
   },
   "outputs": [
    {
     "name": "stderr",
     "output_type": "stream",
     "text": [
      "[Stage 17:=============================>                            (2 + 2) / 4]\r"
     ]
    },
    {
     "name": "stdout",
     "output_type": "stream",
     "text": [
      "+-------+-----------------+-------------------+-----------------+------------------+\n",
      "|summary|          step_id|          timestamp|submission_status|           user_id|\n",
      "+-------+-----------------+-------------------+-----------------+------------------+\n",
      "|  count|           509104|             509104|           509104|            509104|\n",
      "|   mean|33732.59143318458|               null|             null|13198.874945001415|\n",
      "| stddev|9379.377465332262|               null|             null| 7820.240677658117|\n",
      "|    min|            31971|2015-06-15 01:02:24|          correct|                 2|\n",
      "|    max|           120745|2018-05-19 20:07:07|            wrong|             26798|\n",
      "+-------+-----------------+-------------------+-----------------+------------------+\n",
      "\n"
     ]
    },
    {
     "name": "stderr",
     "output_type": "stream",
     "text": [
      "                                                                                \r"
     ]
    }
   ],
   "source": [
    "submissions_df.describe().show()"
   ]
  },
  {
   "cell_type": "markdown",
   "id": "65d3efd7-d39f-4e7b-8367-8217b5d4263c",
   "metadata": {},
   "source": [
    "*Verificando a distribuição das actions e submission_status*"
   ]
  },
  {
   "cell_type": "code",
   "execution_count": 15,
   "id": "66f82db9-518d-4209-874a-97114299ac8a",
   "metadata": {
    "tags": []
   },
   "outputs": [
    {
     "name": "stderr",
     "output_type": "stream",
     "text": [
      "                                                                                \r"
     ]
    },
    {
     "name": "stdout",
     "output_type": "stream",
     "text": [
      "+---------------+-------+\n",
      "|         action|  count|\n",
      "+---------------+-------+\n",
      "|         viewed|1830830|\n",
      "|         passed| 650331|\n",
      "|started_attempt| 310047|\n",
      "|     discovered| 689495|\n",
      "+---------------+-------+\n",
      "\n",
      "+-----------------+------+\n",
      "|submission_status| count|\n",
      "+-----------------+------+\n",
      "|            wrong|286399|\n",
      "|          correct|222705|\n",
      "+-----------------+------+\n",
      "\n"
     ]
    }
   ],
   "source": [
    "events_df.groupBy('action').count().show()\n",
    "submissions_df.groupBy('submission_status').count().show()\n"
   ]
  },
  {
   "cell_type": "markdown",
   "id": "8f68ef11-a097-48cb-942f-6e877b6ccd4b",
   "metadata": {},
   "source": [
    "### Pré-processamento"
   ]
  },
  {
   "cell_type": "markdown",
   "id": "8d0f4c6b-5298-4572-bf58-64603a56e910",
   "metadata": {},
   "source": [
    "#### Enriquecendo a base com dados de tempo"
   ]
  },
  {
   "cell_type": "code",
   "execution_count": 16,
   "id": "04870f3b-fd27-4316-8d17-4c7ac113685c",
   "metadata": {
    "tags": []
   },
   "outputs": [],
   "source": [
    "window_spec = Window.partitionBy(\"user_id\").orderBy(\"timestamp\")"
   ]
  },
  {
   "cell_type": "code",
   "execution_count": 17,
   "id": "0ba2e7fe-609f-4770-a961-2a9d4b4dc9be",
   "metadata": {
    "tags": []
   },
   "outputs": [],
   "source": [
    "events_df = events_df.withColumn(\"time_diff\", (F.unix_timestamp(\"timestamp\") - F.lag(F.unix_timestamp(\"timestamp\")).over(window_spec)))"
   ]
  },
  {
   "cell_type": "code",
   "execution_count": 19,
   "id": "01eaa318-167e-4dec-9439-c64b0bd8124e",
   "metadata": {
    "tags": []
   },
   "outputs": [],
   "source": [
    "events_df = events_df.withColumn(\"time_diff\", F.when(F.isnull(\"time_diff\"), 0).otherwise(F.col(\"time_diff\")))"
   ]
  },
  {
   "cell_type": "code",
   "execution_count": 21,
   "id": "380cad15-1e05-4fa0-b0a0-aa7bd340b782",
   "metadata": {
    "tags": []
   },
   "outputs": [],
   "source": [
    "events_df = events_df.withColumn(\"first_event_timestamp\", F.min(\"timestamp\").over(Window.partitionBy(\"user_id\")))"
   ]
  },
  {
   "cell_type": "code",
   "execution_count": 23,
   "id": "36893cc9-6f79-49a6-912a-c52079c84288",
   "metadata": {
    "tags": []
   },
   "outputs": [],
   "source": [
    "events_df = events_df.withColumn(\"time_since_first_event\", (F.unix_timestamp(\"timestamp\") - F.unix_timestamp(\"first_event_timestamp\")))\n"
   ]
  },
  {
   "cell_type": "markdown",
   "id": "3a54652e-ec1a-4c09-88b7-819ea1e68423",
   "metadata": {},
   "source": [
    "*Vamos agrupar por user_id os 2 dataframes e mesclá-los a fim de criar um só dataset para realizar o treinamento*"
   ]
  },
  {
   "cell_type": "code",
   "execution_count": 42,
   "id": "cf7632dd-a1d9-4b82-890c-9f46edad514e",
   "metadata": {
    "tags": []
   },
   "outputs": [],
   "source": [
    "events_1 = events_df.groupBy(\"user_id\").agg(\n",
    "    F.count(F.when(events_df[\"action\"] == \"passed\", 1)).alias(\"passed_count\"),\n",
    "    F.sum(\"time_diff\").alias(\"total_time_diff_events\"),\n",
    "    F.max(\"time_diff\").alias(\"max_time_diff_events\"),\n",
    "    F.min(\"time_diff\").alias(\"min_time_diff_events\"),\n",
    "    F.avg(\"time_diff\").alias(\"avg_time_diff_events\"),\n",
    "    F.sum(\"time_since_first_event\").alias(\"total_time_since_first_event\"),\n",
    "    F.max(\"time_since_first_event\").alias(\"max_time_since_first_event\"),\n",
    "    F.min(\"time_since_first_event\").alias(\"min_time_since_first_event\"),\n",
    "    F.avg(\"time_since_first_event\").alias(\"avg_time_since_first_event\")\n",
    ")\n"
   ]
  },
  {
   "cell_type": "code",
   "execution_count": 44,
   "id": "9a384d20-3e83-4bb4-bd7a-985d71939907",
   "metadata": {
    "tags": []
   },
   "outputs": [],
   "source": [
    "submissions_1 = submissions_df.groupBy('user_id').pivot('submission_status').agg(F.count('submission_status'))\n"
   ]
  },
  {
   "cell_type": "code",
   "execution_count": 55,
   "id": "93ecdb60-ba35-4429-90e7-14bd816d8d5a",
   "metadata": {
    "tags": []
   },
   "outputs": [],
   "source": [
    "grouped_data = events_1.join(submissions_1, 'user_id', 'inner').fillna(0)\n"
   ]
  },
  {
   "cell_type": "markdown",
   "id": "96970b90-c43a-4d6c-90d1-9a600463e3e4",
   "metadata": {},
   "source": [
    "**O desafio está nos dizendo que ele quer aprender a identificar quem irá concluir ou não o curso. Vamos subentender que para concluir o curso ele precisa passar por todas as atividades, não iremos verificar se as questões estavam certas ou erradas, vamos deixar isso para um outro momento**"
   ]
  },
  {
   "cell_type": "markdown",
   "id": "e3e4f30b-7eac-4544-8785-372a4d45af68",
   "metadata": {},
   "source": [
    "*Neste describe demonstra que a quantidade máxima de discovered e passed é 198, o que podemos aferir que são ao total 198 questões e para concluir o curso devemos treinar com estes 198*"
   ]
  },
  {
   "cell_type": "code",
   "execution_count": 56,
   "id": "2ce4447c-c5f2-41fb-b9c4-8297d755850e",
   "metadata": {
    "tags": []
   },
   "outputs": [],
   "source": [
    "passed_df = events_df.filter(F.col('action') == 'passed')\n",
    "user_df = passed_df.groupBy('user_id').count()\n",
    "concluded_user = user_df.filter(F.col('count') == 198)\n"
   ]
  },
  {
   "cell_type": "code",
   "execution_count": 57,
   "id": "8246aae0-1bca-478b-b2c4-39f68a8381e8",
   "metadata": {
    "tags": []
   },
   "outputs": [
    {
     "name": "stdout",
     "output_type": "stream",
     "text": [
      "+-------+------------------+-----+\n",
      "|summary|           user_id|count|\n",
      "+-------+------------------+-----+\n",
      "|  count|               394|  394|\n",
      "|   mean|12652.131979695432|198.0|\n",
      "| stddev|7847.6569727645965|  0.0|\n",
      "|    min|                22|  198|\n",
      "|    max|             26781|  198|\n",
      "+-------+------------------+-----+\n",
      "\n"
     ]
    },
    {
     "name": "stderr",
     "output_type": "stream",
     "text": [
      "                                                                                \r"
     ]
    }
   ],
   "source": [
    "concluded_user.describe().show()"
   ]
  },
  {
   "cell_type": "code",
   "execution_count": 58,
   "id": "154ea30b-32dc-49de-94b8-209ea6d9fd09",
   "metadata": {
    "tags": []
   },
   "outputs": [
    {
     "name": "stdout",
     "output_type": "stream",
     "text": [
      "+-------+------------------+\n",
      "|summary|           user_id|\n",
      "+-------+------------------+\n",
      "|  count|              9940|\n",
      "|   mean|13312.917002012073|\n",
      "| stddev| 7795.938271033181|\n",
      "|    min|                 2|\n",
      "|    max|             26798|\n",
      "+-------+------------------+\n",
      "\n"
     ]
    }
   ],
   "source": [
    "submissions_df.select(\"user_id\").distinct().describe().show()"
   ]
  },
  {
   "cell_type": "markdown",
   "id": "ab81958c-43ca-41da-8ef5-f9fbc9f22d47",
   "metadata": {},
   "source": [
    "*no concluded_user podemos verificar que somente 394 alunos concluiram o curso, sendo que temos 9940 que iniciaram o curso, temos por volta de 4% de alunos que concluiram. É um percentual pequeno para fazer o treino / teste *"
   ]
  },
  {
   "cell_type": "markdown",
   "id": "013f948e-5569-4396-9e30-4caf8f2c8b46",
   "metadata": {},
   "source": [
    "### Treinamento"
   ]
  },
  {
   "cell_type": "code",
   "execution_count": 74,
   "id": "4e7228d5-eafb-481b-944e-cbd47f6e710e",
   "metadata": {
    "tags": []
   },
   "outputs": [],
   "source": [
    "from pyspark.ml.classification import LogisticRegression\n",
    "from pyspark.ml.feature import VectorAssembler\n",
    "import pandas as pd"
   ]
  },
  {
   "cell_type": "markdown",
   "id": "4f51c8d0-4256-4258-9ae2-a938b3d3c420",
   "metadata": {},
   "source": [
    "*Vamos vetorizar as colunas usando o Vector Assembler e adicionar esta coluna ao dataframe grouped_data*"
   ]
  },
  {
   "cell_type": "code",
   "execution_count": 60,
   "id": "5d2b7692-625f-4012-a9b7-f1597a41d46d",
   "metadata": {
    "tags": []
   },
   "outputs": [],
   "source": [
    "assembler = VectorAssembler(inputCols=grouped_data.columns[1:], outputCol=\"features\")"
   ]
  },
  {
   "cell_type": "code",
   "execution_count": 61,
   "id": "87b535f0-f723-4481-b4e0-653d82ac7e73",
   "metadata": {
    "tags": []
   },
   "outputs": [],
   "source": [
    "grouped_data = assembler.transform(grouped_data)"
   ]
  },
  {
   "cell_type": "code",
   "execution_count": 62,
   "id": "56511865-b837-41f1-a1ba-031764dee8ec",
   "metadata": {
    "tags": []
   },
   "outputs": [],
   "source": [
    "train_data, test_data = grouped_data.randomSplit([0.70, 0.30])"
   ]
  },
  {
   "cell_type": "code",
   "execution_count": 67,
   "id": "e5aeeadd-75d4-4d2b-8c80-dbef4cecc96a",
   "metadata": {
    "tags": []
   },
   "outputs": [],
   "source": [
    "train_data = train_data.withColumn('label', F.when(F.col('passed_count') == 198, 1).otherwise(0))\n",
    "test_data = train_data.withColumn('label', F.when(F.col('passed_count') == 198, 1).otherwise(0))"
   ]
  },
  {
   "cell_type": "code",
   "execution_count": 68,
   "id": "ae0677c7-608a-4470-b558-fb2891dc742f",
   "metadata": {
    "tags": []
   },
   "outputs": [
    {
     "name": "stderr",
     "output_type": "stream",
     "text": [
      "23/10/15 21:28:17 WARN RowBasedKeyValueBatch: Calling spill() on RowBasedKeyValueBatch. Will not spill but return 0.\n",
      "23/10/15 21:28:17 WARN RowBasedKeyValueBatch: Calling spill() on RowBasedKeyValueBatch. Will not spill but return 0.\n",
      "23/10/15 21:28:17 WARN RowBasedKeyValueBatch: Calling spill() on RowBasedKeyValueBatch. Will not spill but return 0.\n",
      "23/10/15 21:28:17 WARN RowBasedKeyValueBatch: Calling spill() on RowBasedKeyValueBatch. Will not spill but return 0.\n",
      "23/10/15 21:28:18 WARN RowBasedKeyValueBatch: Calling spill() on RowBasedKeyValueBatch. Will not spill but return 0.\n",
      "23/10/15 21:28:18 WARN RowBasedKeyValueBatch: Calling spill() on RowBasedKeyValueBatch. Will not spill but return 0.\n",
      "23/10/15 21:28:18 WARN RowBasedKeyValueBatch: Calling spill() on RowBasedKeyValueBatch. Will not spill but return 0.\n",
      "23/10/15 21:28:19 WARN RowBasedKeyValueBatch: Calling spill() on RowBasedKeyValueBatch. Will not spill but return 0.\n",
      "23/10/15 21:28:19 WARN RowBasedKeyValueBatch: Calling spill() on RowBasedKeyValueBatch. Will not spill but return 0.\n",
      "23/10/15 21:28:19 WARN RowBasedKeyValueBatch: Calling spill() on RowBasedKeyValueBatch. Will not spill but return 0.\n",
      "23/10/15 21:28:20 WARN RowBasedKeyValueBatch: Calling spill() on RowBasedKeyValueBatch. Will not spill but return 0.\n",
      "23/10/15 21:28:20 WARN RowBasedKeyValueBatch: Calling spill() on RowBasedKeyValueBatch. Will not spill but return 0.\n",
      "23/10/15 21:28:20 WARN RowBasedKeyValueBatch: Calling spill() on RowBasedKeyValueBatch. Will not spill but return 0.\n",
      "23/10/15 21:28:21 WARN RowBasedKeyValueBatch: Calling spill() on RowBasedKeyValueBatch. Will not spill but return 0.\n",
      "23/10/15 21:28:21 WARN RowBasedKeyValueBatch: Calling spill() on RowBasedKeyValueBatch. Will not spill but return 0.\n",
      "                                                                                \r"
     ]
    }
   ],
   "source": [
    "lr = LogisticRegression(labelCol='label', featuresCol='features')\n",
    "lr_model = lr.fit(train_data)"
   ]
  },
  {
   "cell_type": "code",
   "execution_count": 69,
   "id": "26ea459e-ff0a-4e3d-be02-4a507264be5d",
   "metadata": {
    "tags": []
   },
   "outputs": [],
   "source": [
    "predictions = lr_model.transform(test_data)"
   ]
  },
  {
   "cell_type": "code",
   "execution_count": 77,
   "id": "afd95e1f-c4be-4740-8063-67676cf48a14",
   "metadata": {
    "tags": []
   },
   "outputs": [
    {
     "name": "stderr",
     "output_type": "stream",
     "text": [
      "                                                                                \r"
     ]
    },
    {
     "name": "stdout",
     "output_type": "stream",
     "text": [
      "+-------+------------+----------------------+--------------------+--------------------+--------------------+----------------------------+--------------------------+--------------------------+--------------------------+-------+-----+--------------------+-----+--------------------+--------------------+----------+\n",
      "|user_id|passed_count|total_time_diff_events|max_time_diff_events|min_time_diff_events|avg_time_diff_events|total_time_since_first_event|max_time_since_first_event|min_time_since_first_event|avg_time_since_first_event|correct|wrong|            features|label|       rawPrediction|         probability|prediction|\n",
      "+-------+------------+----------------------+--------------------+--------------------+--------------------+----------------------------+--------------------------+--------------------------+--------------------------+-------+-----+--------------------+-----+--------------------+--------------------+----------+\n",
      "|    296|         198|               4032902|             2479061|                   0|    5494.41689373297|                   579344649|                   4032902|                         0|         789297.8869209809|     76|   27|[198.0,4032902.0,...|    1|[-19.993167136768...|[2.07528542430016...|       1.0|\n",
      "|   1139|         198|               1806219|              250296|                   0|  2519.1338912133892|                   542176432|                   1806219|                         0|         756173.5453277546|     76|   16|[198.0,1806219.0,...|    1|[-19.080495882337...|[5.16946886623713...|       1.0|\n",
      "|   1468|         198|               7860921|              675271|                   0|   4172.463375796178|                  6009952849|                   7860921|                         0|        3189996.2043524417|     96|  672|[198.0,7860921.0,...|    1|[-42.993248123993...|[2.12946046090101...|       1.0|\n",
      "|   2393|         198|              48915905|            37872578|                   0|   54170.43743078627|                 32522164555|                  48915905|                         0|      3.6015686107419714E7|     84|   43|[198.0,4.8915905E...|    1|[-22.861151774917...|[1.17903835744309...|       1.0|\n",
      "|   3087|         198|              20315087|            10236863|                   0|   20294.79220779221|                  1178219411|                  20315087|                         0|        1177042.3686313687|     77|   60|[198.0,2.0315087E...|    1|[-20.486123376947...|[1.26762168868998...|       1.0|\n",
      "+-------+------------+----------------------+--------------------+--------------------+--------------------+----------------------------+--------------------------+--------------------------+--------------------------+-------+-----+--------------------+-----+--------------------+--------------------+----------+\n",
      "only showing top 5 rows\n",
      "\n"
     ]
    },
    {
     "name": "stderr",
     "output_type": "stream",
     "text": [
      "23/10/15 21:31:52 WARN RowBasedKeyValueBatch: Calling spill() on RowBasedKeyValueBatch. Will not spill but return 0.\n",
      "23/10/15 21:31:52 WARN RowBasedKeyValueBatch: Calling spill() on RowBasedKeyValueBatch. Will not spill but return 0.\n",
      "23/10/15 21:31:52 WARN RowBasedKeyValueBatch: Calling spill() on RowBasedKeyValueBatch. Will not spill but return 0.\n",
      "23/10/15 21:31:52 WARN RowBasedKeyValueBatch: Calling spill() on RowBasedKeyValueBatch. Will not spill but return 0.\n",
      "23/10/15 21:31:52 WARN RowBasedKeyValueBatch: Calling spill() on RowBasedKeyValueBatch. Will not spill but return 0.\n",
      "23/10/15 21:31:53 WARN RowBasedKeyValueBatch: Calling spill() on RowBasedKeyValueBatch. Will not spill but return 0.\n",
      "23/10/15 21:31:53 WARN RowBasedKeyValueBatch: Calling spill() on RowBasedKeyValueBatch. Will not spill but return 0.\n",
      "23/10/15 21:31:53 WARN RowBasedKeyValueBatch: Calling spill() on RowBasedKeyValueBatch. Will not spill but return 0.\n",
      "23/10/15 21:31:54 WARN RowBasedKeyValueBatch: Calling spill() on RowBasedKeyValueBatch. Will not spill but return 0.\n",
      "                                                                                \r"
     ]
    }
   ],
   "source": [
    "predictions.filter(predictions.label == 1).show(5)\n",
    "export = predictions.toPandas()"
   ]
  },
  {
   "cell_type": "code",
   "execution_count": 80,
   "id": "47468509-d0db-4cee-8f02-ae915d07addf",
   "metadata": {
    "tags": []
   },
   "outputs": [],
   "source": [
    "export.to_excel('./predition.xlsx',index=False)"
   ]
  },
  {
   "cell_type": "code",
   "execution_count": null,
   "id": "8d343927-204e-4cbf-94fe-89b0397e2c48",
   "metadata": {
    "tags": []
   },
   "outputs": [],
   "source": [
    "from pyspark.ml.evaluation import MulticlassClassificationEvaluator\n",
    "\n",
    "evaluator = MulticlassClassificationEvaluator(labelCol='label', metricName='accuracy')\n",
    "accuracy = evaluator.evaluate(predictions)\n",
    "print(f\"Acurácia: {accuracy}\")\n",
    "\n",
    "evaluator.setMetricName('recallByLabel')\n",
    "recall = evaluator.evaluate(predictions)\n",
    "print(f\"Revocação: {recall}\")\n",
    "\n",
    "evaluator.setMetricName('f1')\n",
    "f1_score = evaluator.evaluate(predictions)\n",
    "print(f\"F1 Score: {f1_score}\")"
   ]
  },
  {
   "cell_type": "code",
   "execution_count": null,
   "id": "07b542d4-1793-4358-acfa-980056729bfb",
   "metadata": {
    "tags": []
   },
   "outputs": [],
   "source": [
    "from pyspark.ml.tuning import CrossValidator, ParamGridBuilder\n",
    "\n",
    "# Criar a grade de parâmetros (vazia neste exemplo)\n",
    "paramGrid = ParamGridBuilder().build()\n",
    "\n",
    "# Configurar o avaliador\n",
    "evaluator = BinaryClassificationEvaluator(labelCol='label')\n",
    "\n",
    "# Configurar o validador cruzado\n",
    "crossval = CrossValidator(\n",
    "    estimator=lr,  # modelo de Regressão Logística\n",
    "    estimatorParamMaps=paramGrid,  # grade de parâmetros a serem testados\n",
    "    evaluator=evaluator,  # avaliador\n",
    "    numFolds=5  # número de dobras/folds\n",
    ")\n",
    "\n",
    "# Executar validação cruzada e escolher o melhor modelo\n",
    "cvModel = crossval.fit(train_data)\n",
    "\n",
    "# Usar o melhor modelo para fazer previsões no conjunto de teste\n",
    "cv_predictions = cvModel.transform(test_data)\n",
    "\n",
    "# Avaliar o melhor modelo\n",
    "roc_auc = evaluator.evaluate(cv_predictions)\n",
    "print(f\"Área sob a curva ROC após validação cruzada: {roc_auc}\")\n",
    "\n"
   ]
  },
  {
   "cell_type": "markdown",
   "id": "925f16a4-19bd-442f-b95e-8d1a6d668c50",
   "metadata": {},
   "source": []
  },
  {
   "cell_type": "code",
   "execution_count": null,
   "id": "5fba6b5d-bbf2-405f-9fb1-7c197a71371f",
   "metadata": {},
   "outputs": [],
   "source": []
  }
 ],
 "metadata": {
  "kernelspec": {
   "display_name": "Python 3 (ipykernel)",
   "language": "python",
   "name": "python3"
  },
  "language_info": {
   "codemirror_mode": {
    "name": "ipython",
    "version": 3
   },
   "file_extension": ".py",
   "mimetype": "text/x-python",
   "name": "python",
   "nbconvert_exporter": "python",
   "pygments_lexer": "ipython3",
   "version": "3.10.11"
  }
 },
 "nbformat": 4,
 "nbformat_minor": 5
}
