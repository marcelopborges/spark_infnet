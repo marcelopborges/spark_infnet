{
 "cells": [
  {
   "cell_type": "markdown",
   "id": "448b3879-ed9d-491e-adca-153049a03b10",
   "metadata": {},
   "source": [
    "# Analise dos dados do CAGED"
   ]
  },
  {
   "cell_type": "markdown",
   "id": "f267079b-8b98-42d8-9833-783d3557cb59",
   "metadata": {
    "tags": []
   },
   "source": [
    "## Importação de bibliotecas"
   ]
  },
  {
   "cell_type": "code",
   "execution_count": 1,
   "id": "1193e2d1-9709-49d4-9762-67c70d79a0c5",
   "metadata": {
    "tags": []
   },
   "outputs": [],
   "source": [
    "from pyspark.sql import SparkSession\n",
    "from pyspark.sql.types import StructType, StructField, StringType, IntegerType, FloatType\n",
    "from pyspark.sql.functions import col\n",
    "from pyspark.sql import functions as F\n",
    "from pyspark.sql import Row\n",
    "from tqdm import tqdm\n",
    "import matplotlib.pyplot as plt\n",
    "import pandas as pd\n",
    "import os\n",
    "import warnings\n",
    "warnings.simplefilter('ignore')"
   ]
  },
  {
   "cell_type": "markdown",
   "id": "2ba239f9-07c0-4ec4-b364-457353a4b4b0",
   "metadata": {
    "tags": []
   },
   "source": [
    "## Importação dos dados"
   ]
  },
  {
   "cell_type": "markdown",
   "id": "149b0072-72f0-4e0b-ac70-12ecbd6c4e0a",
   "metadata": {
    "tags": []
   },
   "source": [
    "### Verificando consistência dos arquivos"
   ]
  },
  {
   "cell_type": "markdown",
   "id": "3e5b0d3c-48a0-4b3f-ad8b-4cb719d69f1e",
   "metadata": {
    "tags": []
   },
   "source": [
    "#### Verificando se há linhas com quantidade de registro menor ou maior que a quantidade de colunas"
   ]
  },
  {
   "cell_type": "markdown",
   "id": "17492c98-c637-4a95-8a5f-fdce097f061f",
   "metadata": {},
   "source": [
    "*Função criada para identificar o delimitador de qualquer arquivo txt que esteja sendo analisado.*"
   ]
  },
  {
   "cell_type": "code",
   "execution_count": 2,
   "id": "8e619c11-d9de-46e8-8707-ae602c262b32",
   "metadata": {
    "tags": []
   },
   "outputs": [],
   "source": [
    "def detect_delimiter(filepath):\n",
    "    \"\"\"\n",
    "    :param filepath: Caminho absoluto do arquivo a ser analisado.\n",
    "    :return: Retorna o delimitador utilizado no arquivo.\n",
    "    \"\"\"\n",
    "    with open(filepath, 'r') as f:\n",
    "        first_line = f.readline()\n",
    "        delimiters = [',', ';', '\\t']\n",
    "        delimiter_counts = {delim: first_line.count(delim) for delim in delimiters}\n",
    "        return max(delimiter_counts, key=delimiter_counts.get)"
   ]
  },
  {
   "cell_type": "markdown",
   "id": "aa1e0cc4-c125-4967-96cb-d08345396727",
   "metadata": {},
   "source": [
    "*Esta função verifica se as linhas do arquivo tem a mesma quantidade de colunas que o header*\n"
   ]
  },
  {
   "cell_type": "code",
   "execution_count": 3,
   "id": "e7434270-6db4-4fe5-b2d1-5801f26b3242",
   "metadata": {
    "tags": []
   },
   "outputs": [],
   "source": [
    "def check_file_columns(filepath, delimiter):\n",
    "    \"\"\"\n",
    "    :param filepath: Caminho absoluto do arquivo a ser analisado.\n",
    "    :return: retorna a linha que contêm a quantidade de colunas diferente do header.\n",
    "    \"\"\"\n",
    "    problematic_lines = []\n",
    "    with open(filepath, 'r', encoding='utf-8', errors='ignore') as f:\n",
    "        header = f.readline().strip().split(delimiter)\n",
    "        num_cols = len(header)\n",
    "        \n",
    "        for i, line in enumerate(f, start=2):\n",
    "            if len(line.strip().split(delimiter)) != num_cols:\n",
    "                problematic_lines.append(i)\n",
    "\n",
    "    return problematic_lines"
   ]
  },
  {
   "cell_type": "markdown",
   "id": "97b75afb-85f8-41f1-9be8-ce38b52cf8bf",
   "metadata": {},
   "source": [
    "*Lista todos caminhos absolutos dos arquivos a serem importados*"
   ]
  },
  {
   "cell_type": "code",
   "execution_count": 4,
   "id": "8c19e7ca-f073-4cff-b3c8-e82cbebcebf2",
   "metadata": {
    "tags": []
   },
   "outputs": [],
   "source": [
    "def list_txt_files(directory):\n",
    "    \"\"\"\n",
    "    :param directory: Caminho para ser obter a lista de txt\n",
    "    :return: Retorna o caminho absoluto de todos os arquivos listados na pasta\n",
    "    \"\"\"\n",
    "    return [os.path.abspath(os.path.join(directory, file)) for file in os.listdir(directory) if file.endswith('.txt')]"
   ]
  },
  {
   "cell_type": "code",
   "execution_count": 5,
   "id": "0d3969c2-b9de-4567-8c2c-e6404ae2f346",
   "metadata": {
    "tags": []
   },
   "outputs": [],
   "source": [
    "path = '/home/marceloborges/Datasets/CAGED_aggregated/'"
   ]
  },
  {
   "cell_type": "code",
   "execution_count": 6,
   "id": "8e67f737-740a-42c1-869b-8020415a2255",
   "metadata": {
    "tags": []
   },
   "outputs": [],
   "source": [
    "files = list_txt_files(path)"
   ]
  },
  {
   "cell_type": "markdown",
   "id": "6b00d7fd-816f-4721-8ac5-5b44470f67d0",
   "metadata": {
    "tags": []
   },
   "source": [
    "### Configuração do ambiente spark"
   ]
  },
  {
   "cell_type": "code",
   "execution_count": 7,
   "id": "3e3b7191-c87a-4c67-b8fe-e26c89dffb4f",
   "metadata": {
    "tags": []
   },
   "outputs": [
    {
     "name": "stderr",
     "output_type": "stream",
     "text": [
      "23/10/14 11:11:38 WARN Utils: Your hostname, pop-os resolves to a loopback address: 127.0.1.1; using 192.168.2.15 instead (on interface wlo1)\n",
      "23/10/14 11:11:38 WARN Utils: Set SPARK_LOCAL_IP if you need to bind to another address\n",
      "Setting default log level to \"WARN\".\n",
      "To adjust logging level use sc.setLogLevel(newLevel). For SparkR, use setLogLevel(newLevel).\n",
      "23/10/14 11:11:39 WARN NativeCodeLoader: Unable to load native-hadoop library for your platform... using builtin-java classes where applicable\n",
      "23/10/14 11:11:39 WARN Utils: Service 'SparkUI' could not bind on port 4040. Attempting port 4041.\n"
     ]
    }
   ],
   "source": [
    "spark = SparkSession.builder.appName(\"CagedProcessing\").getOrCreate()"
   ]
  },
  {
   "cell_type": "markdown",
   "id": "d6010c42-e6a8-431a-9aa0-a4d5323104d0",
   "metadata": {
    "tags": []
   },
   "source": [
    "#### Verificando se há erros no dataset"
   ]
  },
  {
   "cell_type": "markdown",
   "id": "bc2fa35c-94eb-488e-9a88-2cde308e0d3d",
   "metadata": {},
   "source": [
    "*Criando um dataframe para receber informações caso tenha algum erro no dataset*"
   ]
  },
  {
   "cell_type": "code",
   "execution_count": 8,
   "id": "460ce5e7-b9f4-4c48-89d3-b7627e377039",
   "metadata": {
    "tags": []
   },
   "outputs": [],
   "source": [
    "schema = StructType([\n",
    "    StructField(\"File\", StringType(), True),\n",
    "    StructField(\"Issue\", StringType(), True),\n",
    "    StructField(\"Details\", StringType(), True)\n",
    "])\n",
    "\n",
    "df_errors = spark.createDataFrame([], schema)"
   ]
  },
  {
   "cell_type": "code",
   "execution_count": 9,
   "id": "5806df81-8464-4c13-bc1b-5bfe8e8af0d3",
   "metadata": {
    "tags": []
   },
   "outputs": [
    {
     "name": "stderr",
     "output_type": "stream",
     "text": [
      "Processing files: 100%|██████████| 116/116 [00:07<00:00, 15.72files/s]\n"
     ]
    }
   ],
   "source": [
    "for file in tqdm(files, desc=\"Processing files\", unit=\"files\"):\n",
    "    delimiter = detect_delimiter(file)\n",
    "    try:\n",
    "        spark_df = spark.read.option(\"delimiter\", delimiter).csv(file)\n",
    "    except Exception as e:\n",
    "        problematic_lines = check_file_columns(file, delimiter)\n",
    "        for line in problematic_lines:\n",
    "            new_row = Row(File=file, Issue=\"Tokenization Error\", Details=f\"Line {line}\")\n",
    "            df_errors = df_errors.union(spark.createDataFrame([new_row]))\n",
    "\n"
   ]
  },
  {
   "cell_type": "code",
   "execution_count": 10,
   "id": "5be6420b-1f8f-4475-862c-1ba2e0d3d3fc",
   "metadata": {
    "tags": []
   },
   "outputs": [
    {
     "name": "stdout",
     "output_type": "stream",
     "text": [
      "+----+-----+-------+\n",
      "|File|Issue|Details|\n",
      "+----+-----+-------+\n",
      "+----+-----+-------+\n",
      "\n"
     ]
    }
   ],
   "source": [
    "df_errors.show()"
   ]
  },
  {
   "cell_type": "markdown",
   "id": "5b2da3b4-0864-4538-942c-f59d7eb5f269",
   "metadata": {},
   "source": [
    "## Exploratory Data Analysis - EDA"
   ]
  },
  {
   "cell_type": "markdown",
   "id": "954996b3-a110-4a12-b1fd-a4feebd85440",
   "metadata": {},
   "source": [
    "#### Criação do dataframe"
   ]
  },
  {
   "cell_type": "code",
   "execution_count": 11,
   "id": "15b64376-883f-41cb-9227-2a8b2d67f9cf",
   "metadata": {
    "tags": []
   },
   "outputs": [],
   "source": [
    "df = spark.read.option(\"delimiter\", delimiter).option('header','true').csv(path + \"*.txt\")"
   ]
  },
  {
   "cell_type": "markdown",
   "id": "296fd464-47c3-47a1-8c59-bbf181a5aa92",
   "metadata": {},
   "source": [
    "#### Identificando o schema do dataframe"
   ]
  },
  {
   "cell_type": "markdown",
   "id": "0fa6cd59-f8ad-4bbd-adf7-4142879961c1",
   "metadata": {},
   "source": [
    "*Foi identificado que na coluna salário possui muitas informações nulas, resolvemos excluir este dado*"
   ]
  },
  {
   "cell_type": "code",
   "execution_count": 12,
   "id": "29e207c3-7eb8-4f05-99cc-47570b2cb31d",
   "metadata": {
    "tags": []
   },
   "outputs": [
    {
     "name": "stderr",
     "output_type": "stream",
     "text": [
      "                                                                                \r"
     ]
    },
    {
     "data": {
      "text/plain": [
       "127914"
      ]
     },
     "execution_count": 12,
     "metadata": {},
     "output_type": "execute_result"
    }
   ],
   "source": [
    "df.filter(F.col(\"salário\").isNull()).count()"
   ]
  },
  {
   "cell_type": "code",
   "execution_count": 13,
   "id": "b8235ba7-8abb-4e64-b1c2-3064df4fc895",
   "metadata": {
    "tags": []
   },
   "outputs": [],
   "source": [
    "df = df.na.drop(subset=[\"salário\"])"
   ]
  },
  {
   "cell_type": "markdown",
   "id": "aebe47fb-3def-4d11-947b-1a79368f1a0d",
   "metadata": {},
   "source": [
    "#### Exclusão de colunas desnecessárias para o estudo"
   ]
  },
  {
   "cell_type": "code",
   "execution_count": 14,
   "id": "8f3098a5-d16b-4dec-a53c-6a089270bda8",
   "metadata": {
    "tags": []
   },
   "outputs": [],
   "source": [
    "excluded_col_list = ['raçacor','indtrabintermitente','indtrabparcial','tamestabjan','indicadoraprendiz','competênciadec','indicadordeforadoprazo','unidadesaláriocódigo','valorsaláriofixo']"
   ]
  },
  {
   "cell_type": "code",
   "execution_count": 15,
   "id": "fea55812-22b7-4e51-a9ac-7a6dcb0e0b72",
   "metadata": {
    "tags": []
   },
   "outputs": [],
   "source": [
    "df = df.drop(*excluded_col_list)"
   ]
  },
  {
   "cell_type": "markdown",
   "id": "6cc90729-3779-49c0-8d91-18e3c22de19e",
   "metadata": {},
   "source": [
    "*Foi identificado também que todas as colunas estão formato de string e com os sinais de separação de milhares e casas decimais seguindo o formato brasileiro, tivemos que inverter os sinais e converter *"
   ]
  },
  {
   "cell_type": "code",
   "execution_count": 16,
   "id": "5a98539f-f9b0-42d0-9271-20e4155ec9b5",
   "metadata": {
    "tags": []
   },
   "outputs": [
    {
     "name": "stdout",
     "output_type": "stream",
     "text": [
      "root\n",
      " |-- competênciamov: string (nullable = true)\n",
      " |-- região: string (nullable = true)\n",
      " |-- uf: string (nullable = true)\n",
      " |-- município: string (nullable = true)\n",
      " |-- seção: string (nullable = true)\n",
      " |-- subclasse: string (nullable = true)\n",
      " |-- saldomovimentação: string (nullable = true)\n",
      " |-- cbo2002ocupação: string (nullable = true)\n",
      " |-- categoria: string (nullable = true)\n",
      " |-- graudeinstrução: string (nullable = true)\n",
      " |-- idade: string (nullable = true)\n",
      " |-- horascontratuais: string (nullable = true)\n",
      " |-- sexo: string (nullable = true)\n",
      " |-- tipoempregador: string (nullable = true)\n",
      " |-- tipoestabelecimento: string (nullable = true)\n",
      " |-- tipomovimentação: string (nullable = true)\n",
      " |-- tipodedeficiência: string (nullable = true)\n",
      " |-- salário: string (nullable = true)\n",
      " |-- origemdainformação: string (nullable = true)\n",
      "\n"
     ]
    }
   ],
   "source": [
    "df.printSchema()"
   ]
  },
  {
   "cell_type": "code",
   "execution_count": 18,
   "id": "351e732e-f9f7-4f31-9d15-fa49e77dcb5f",
   "metadata": {},
   "outputs": [],
   "source": [
    "excessao_list=['horascontratuais','salário']"
   ]
  },
  {
   "cell_type": "code",
   "execution_count": 19,
   "id": "00fb6bca-e70b-4cc4-86c4-e36fee86b821",
   "metadata": {},
   "outputs": [],
   "source": [
    "for col in excessao_list:\n",
    "    df = df.withColumn(col, F.regexp_replace(F.col(col), \",\", \".\"))"
   ]
  },
  {
   "cell_type": "markdown",
   "id": "d503fee3",
   "metadata": {},
   "source": [
    "*A maioria das colunas são chaves estrangeiras, com poucas exceções, portanto, iremos identificar estes campos que são valores calculados (medidas), convertê-los para float e os demais para integer*"
   ]
  },
  {
   "cell_type": "code",
   "execution_count": 20,
   "id": "a2fedc3c",
   "metadata": {},
   "outputs": [],
   "source": [
    "for coluna in df.columns:\n",
    "    if coluna in excessao_list:\n",
    "        df = df.withColumn(coluna, F.col(coluna).cast(FloatType()))\n",
    "    else:\n",
    "        df = df.withColumn(coluna, F.col(coluna).cast(IntegerType())) "
   ]
  },
  {
   "cell_type": "code",
   "execution_count": 21,
   "id": "53d3b12a-4878-4c5f-8734-f07f8b235589",
   "metadata": {
    "tags": []
   },
   "outputs": [
    {
     "name": "stdout",
     "output_type": "stream",
     "text": [
      "root\n",
      " |-- competênciamov: integer (nullable = true)\n",
      " |-- região: integer (nullable = true)\n",
      " |-- uf: integer (nullable = true)\n",
      " |-- município: integer (nullable = true)\n",
      " |-- seção: integer (nullable = true)\n",
      " |-- subclasse: integer (nullable = true)\n",
      " |-- saldomovimentação: integer (nullable = true)\n",
      " |-- cbo2002ocupação: integer (nullable = true)\n",
      " |-- categoria: integer (nullable = true)\n",
      " |-- graudeinstrução: integer (nullable = true)\n",
      " |-- idade: integer (nullable = true)\n",
      " |-- horascontratuais: float (nullable = true)\n",
      " |-- sexo: integer (nullable = true)\n",
      " |-- tipoempregador: integer (nullable = true)\n",
      " |-- tipoestabelecimento: integer (nullable = true)\n",
      " |-- tipomovimentação: integer (nullable = true)\n",
      " |-- tipodedeficiência: integer (nullable = true)\n",
      " |-- salário: float (nullable = true)\n",
      " |-- origemdainformação: integer (nullable = true)\n",
      "\n"
     ]
    }
   ],
   "source": [
    "df.printSchema()"
   ]
  },
  {
   "cell_type": "markdown",
   "id": "97b3c6d1-054f-439d-8dec-ddb5729850a1",
   "metadata": {
    "tags": []
   },
   "source": [
    "#### Importação das tabelas dimensões"
   ]
  },
  {
   "cell_type": "markdown",
   "id": "e80bc5b3-82d5-476c-bd8e-f67263040b28",
   "metadata": {},
   "source": [
    "*Precisamos ler as descrições das fkeys que estão presente nos arquivos de dimensão*"
   ]
  },
  {
   "cell_type": "code",
   "execution_count": 22,
   "id": "10770d9b-e4a7-407c-aef4-c78afda9cf1b",
   "metadata": {
    "tags": []
   },
   "outputs": [],
   "source": [
    "dfs = {}"
   ]
  },
  {
   "cell_type": "code",
   "execution_count": 23,
   "id": "37662537",
   "metadata": {
    "tags": []
   },
   "outputs": [],
   "source": [
    "dimension_path = '/home/marceloborges/Documentos/Pós gradução/4 - Spark/dataframes_csv'"
   ]
  },
  {
   "cell_type": "code",
   "execution_count": 24,
   "id": "7f034252-cedc-495c-bad3-8455b32734ae",
   "metadata": {
    "tags": []
   },
   "outputs": [],
   "source": [
    "dimension_files = [f for f in os.listdir(dimension_path) if f.endswith('.csv')]"
   ]
  },
  {
   "cell_type": "code",
   "execution_count": 25,
   "id": "0fe1f5f7-b231-4e99-b382-ec1ee4a56c18",
   "metadata": {
    "tags": []
   },
   "outputs": [],
   "source": [
    "for file in dimension_files:\n",
    "    path_dimension_file = os.path.join(dimension_path, file)\n",
    "    dimension = os.path.splitext(file)[0]\n",
    "    dfs[dimension] = spark.read.csv(path_dimension_file, header=True, inferSchema=True)"
   ]
  },
  {
   "cell_type": "markdown",
   "id": "a461c8e0-ff68-4ce8-abba-29c45c359f25",
   "metadata": {},
   "source": [
    "*Criaremos uma coluna no qual retire do campo competência que está no formato mês/ano (202309) somente o ano, para que possamos fazer as agregações*"
   ]
  },
  {
   "cell_type": "code",
   "execution_count": 26,
   "id": "4713614f-7002-443f-887c-28068a150db5",
   "metadata": {
    "tags": []
   },
   "outputs": [],
   "source": [
    "df= df.withColumn(\"Ano\", F.substring(\"competênciamov\", 1, 4))"
   ]
  },
  {
   "cell_type": "markdown",
   "id": "f5a9b86f-9b0e-4241-96aa-87ea1ef1fcba",
   "metadata": {},
   "source": [
    "*Neste trecho, iremos substituir as colunas categóricas, ou seja, as colunas nos quais iremos fazer agregações e substituir o FKeys pela descrição contida nas tabelas de dimensões*"
   ]
  },
  {
   "cell_type": "code",
   "execution_count": 27,
   "id": "1da68cfa-6711-485c-8def-c03f7292a8d6",
   "metadata": {
    "tags": []
   },
   "outputs": [],
   "source": [
    "col_category = ['região', 'uf', 'município', 'graudeinstrução','sexo']"
   ]
  },
  {
   "cell_type": "markdown",
   "id": "43a3b955-1be7-463c-ae8d-3a1369d1ec08",
   "metadata": {},
   "source": [
    "*Este trecho faz o seguinte, vou iterar a lista col_category e para cada coluna iterada, irei verificar se a coluna contêm no dataframe (dfs), caso seja verdadeiro, criamos um dicionário contendo a chave e o valor. Criamos uma lista vazia, e para cada chave (k) e valor (v) no dicionário (dict_mapping) nós adicionamos no map_list os valores literais de chave e valor. Criamos uma expressão do pyspark que irá substituir os dados e em seguida, aplicamos a expressão e obtemos  o dataframe já com os valores trocados.*"
   ]
  },
  {
   "cell_type": "code",
   "execution_count": 28,
   "id": "d54bf11b-94eb-4a8c-8542-981a32562388",
   "metadata": {
    "tags": []
   },
   "outputs": [],
   "source": [
    "for col in col_category:\n",
    "    if col in dfs:\n",
    "        dict_mapping = {row['Código']: row['Descrição'] for row in dfs[col].collect()}\n",
    "        map_list = []        \n",
    "        for k, v in dict_mapping.items():\n",
    "            map_list.append(F.lit(k))\n",
    "            map_list.append(F.lit(v))            \n",
    "        map_expr = F.create_map(map_list)\n",
    "        df = df.withColumn(col, map_expr[F.col(col)])"
   ]
  },
  {
   "cell_type": "markdown",
   "id": "7ff4c214-79bf-42f9-8415-46e433e443d4",
   "metadata": {},
   "source": [
    "*Criamos um filtro com todas as atividades relacionadas com Enfermagem*"
   ]
  },
  {
   "cell_type": "code",
   "execution_count": 29,
   "id": "8b84005c-8230-455b-a688-ed0fd35f3a69",
   "metadata": {
    "tags": []
   },
   "outputs": [],
   "source": [
    "employee_filter = [223505, 223510, 223515, 223520, 223525, 223530, 223535, 223540, 223545, 223550, 223555, 223560, 223565]"
   ]
  },
  {
   "cell_type": "markdown",
   "id": "8129103b-2745-455f-8ce1-09cda1af74f3",
   "metadata": {},
   "source": [
    "*Criamos um filtro de algumas capitais brasileiras para fazermos comparações, são elas: Minha bela Goiânia, São Paulo, Rio de Janeiro, Belo Horizonte e Salvador*"
   ]
  },
  {
   "cell_type": "code",
   "execution_count": 30,
   "id": "30ffabca-362e-4738-af97-85fb644cbd91",
   "metadata": {
    "tags": []
   },
   "outputs": [],
   "source": [
    "city_filter = ['Sp-Sao Paulo','Go-Goiania','Ba-Salvador','Rj-Rio de Janeiro','Mg-Belo Horizonte']"
   ]
  },
  {
   "cell_type": "markdown",
   "id": "51649d2a-dcaa-4047-9d8d-dbb939533279",
   "metadata": {},
   "source": [
    "*Criamos o dataframe hiring_state, nele manteremos todos os filtros daqui em diante*"
   ]
  },
  {
   "cell_type": "code",
   "execution_count": 31,
   "id": "c3742abe-6455-4e48-b1a8-1dcc661e790a",
   "metadata": {
    "tags": []
   },
   "outputs": [],
   "source": [
    "df_hiring_state = df.filter(\n",
    "    (df['cbo2002ocupação'].isin(employee_filter)) &\n",
    "    (df['município'].isin(city_filter)) &\n",
    "    (df['Ano'] >= 2020) & (df['Ano'] <= 2023)\n",
    ")"
   ]
  },
  {
   "cell_type": "code",
   "execution_count": 32,
   "id": "706e50cd-5441-4e29-ac43-6a05fab6281a",
   "metadata": {},
   "outputs": [],
   "source": [
    "df_grouped = df_hiring_state.groupBy('Ano', 'uf').agg(\n",
    "    F.sum('saldomovimentação').alias('Saldo')\n",
    ").orderBy('Ano', 'uf')"
   ]
  },
  {
   "cell_type": "markdown",
   "id": "7c5264e0-883a-457d-8e46-6445789d3b74",
   "metadata": {},
   "source": [
    "*Não encontrei uma forma direta para plotar em gráficos um dataframe spark, a forma que encontrei é convertendo para o formato pandas*"
   ]
  },
  {
   "cell_type": "code",
   "execution_count": 33,
   "id": "76d34ebe-3580-4e12-b109-ade6c9a65880",
   "metadata": {
    "tags": []
   },
   "outputs": [
    {
     "name": "stderr",
     "output_type": "stream",
     "text": [
      "                                                                                \r"
     ]
    }
   ],
   "source": [
    "graph_hiring_df = df_grouped.toPandas()"
   ]
  },
  {
   "cell_type": "code",
   "execution_count": 34,
   "id": "e62cf2ad-80ed-48d5-b85d-a5862193f2a6",
   "metadata": {
    "tags": []
   },
   "outputs": [
    {
     "data": {
      "image/png": "[encoded data removed]",
      "text/plain": [
       "<Figure size 1200x600 with 1 Axes>"
      ]
     },
     "metadata": {},
     "output_type": "display_data"
    }
   ],
   "source": [
    "plt.figure(figsize=(12, 6))\n",
    "\n",
    "for uf in graph_hiring_df['uf'].unique():\n",
    "    subset = graph_hiring_df[graph_hiring_df['uf'] == uf]\n",
    "    plt.plot(subset['Ano'], subset['Saldo'], label=f\"UF: {uf}\")\n",
    "    for x, y in zip(subset['Ano'], subset['Saldo']):\n",
    "        plt.text(x, y, f\"{y}\", fontsize=9, va='bottom', ha='right')\n",
    "\n",
    "plt.xlabel('Ano')\n",
    "plt.ylabel('Saldo de Movimentação')\n",
    "plt.title('Saldo de Contratações por Ano e Estado')\n",
    "plt.legend()\n",
    "plt.show()"
   ]
  },
  {
   "cell_type": "markdown",
   "id": "8162900c-0c22-420a-8658-5dccde786eb8",
   "metadata": {},
   "source": [
    "*Irei deletar os dataframes, após a plotagem do gráfico para ocupar menos espaço em memória*"
   ]
  },
  {
   "cell_type": "code",
   "execution_count": 35,
   "id": "865f6456-0cc9-49c8-a2b8-216486a67a21",
   "metadata": {
    "tags": []
   },
   "outputs": [
    {
     "name": "stderr",
     "output_type": "stream",
     "text": [
      "                                                                                \r"
     ]
    }
   ],
   "source": [
    "df_gender = df_hiring_state.groupBy(\"sexo\").agg(\n",
    "    F.sum(\"saldomovimentação\").alias(\"Saldo_Contratações\")\n",
    ")\n",
    "graph_gender_df =  df_gender.toPandas()"
   ]
  },
  {
   "cell_type": "code",
   "execution_count": 36,
   "id": "c27b26ab-31ca-4b3d-8f59-2a2759cc5b40",
   "metadata": {
    "tags": []
   },
   "outputs": [
    {
     "data": {
      "text/html": [
       "<div>\n",
       "<style scoped>\n",
       "    .dataframe tbody tr th:only-of-type {\n",
       "        vertical-align: middle;\n",
       "    }\n",
       "\n",
       "    .dataframe tbody tr th {\n",
       "        vertical-align: top;\n",
       "    }\n",
       "\n",
       "    .dataframe thead th {\n",
       "        text-align: right;\n",
       "    }\n",
       "</style>\n",
       "<table border=\"1\" class=\"dataframe\">\n",
       "  <thead>\n",
       "    <tr style=\"text-align: right;\">\n",
       "      <th></th>\n",
       "      <th>sexo</th>\n",
       "      <th>Saldo_Contratações</th>\n",
       "    </tr>\n",
       "  </thead>\n",
       "  <tbody>\n",
       "    <tr>\n",
       "      <th>0</th>\n",
       "      <td>Homem</td>\n",
       "      <td>2689</td>\n",
       "    </tr>\n",
       "    <tr>\n",
       "      <th>1</th>\n",
       "      <td>Mulher</td>\n",
       "      <td>13158</td>\n",
       "    </tr>\n",
       "  </tbody>\n",
       "</table>\n",
       "</div>"
      ],
      "text/plain": [
       "     sexo  Saldo_Contratações\n",
       "0   Homem                2689\n",
       "1  Mulher               13158"
      ]
     },
     "execution_count": 36,
     "metadata": {},
     "output_type": "execute_result"
    }
   ],
   "source": [
    "graph_gender_df"
   ]
  },
  {
   "cell_type": "code",
   "execution_count": 37,
   "id": "1a667fdc-d8f2-4cb8-909c-c43670bd2a79",
   "metadata": {
    "tags": []
   },
   "outputs": [
    {
     "data": {
      "image/png": "[encoded data removed]",
      "text/plain": [
       "<Figure size 800x500 with 1 Axes>"
      ]
     },
     "metadata": {},
     "output_type": "display_data"
    }
   ],
   "source": [
    "plt.figure(figsize=(8, 5))\n",
    "plt.bar(graph_gender_df['sexo'], graph_gender_df['Saldo_Contratações'], color='skyblue')\n",
    "\n",
    "# Adicionar rótulos\n",
    "plt.title('Contratações por Sexo')\n",
    "plt.xlabel('Sexo')\n",
    "plt.ylabel('Saldo de Contratações')\n",
    "\n",
    "# Exibir os valores acima das barras\n",
    "for i, v in enumerate(graph_gender_df['Saldo_Contratações']):\n",
    "    plt.text(i, v + 1000, str(v), ha='center', va='bottom', fontsize=12)"
   ]
  },
  {
   "cell_type": "code",
   "execution_count": 38,
   "id": "f18cb17a-c208-4270-a00f-cc5fabfc7d42",
   "metadata": {
    "tags": []
   },
   "outputs": [],
   "source": [
    "age_df = df_hiring_state.withColumn(\n",
    "    \"faixa_etaria\",\n",
    "    F.when(F.col(\"idade\") < 30, \"Abaixo de 30\")\n",
    "    .when((F.col(\"idade\") >= 30) & (F.col(\"idade\") <= 50), \"Entre 30 e 50\")\n",
    "    .otherwise(\"Acima de 50\")\n",
    ")"
   ]
  },
  {
   "cell_type": "code",
   "execution_count": 39,
   "id": "6649c6f2-e49a-465e-83cc-88f114be087c",
   "metadata": {
    "tags": []
   },
   "outputs": [
    {
     "name": "stderr",
     "output_type": "stream",
     "text": [
      "                                                                                \r"
     ]
    }
   ],
   "source": [
    "age_df = age_df.groupBy(\"faixa_etaria\").agg(\n",
    "    F.sum(\"saldomovimentação\").alias(\"Saldo_Contratações\")\n",
    ")\n",
    "df_age = age_df.toPandas()"
   ]
  },
  {
   "cell_type": "code",
   "execution_count": 40,
   "id": "f4c20656-37a2-4b3d-8f8d-99748f3d0cab",
   "metadata": {
    "tags": []
   },
   "outputs": [],
   "source": [
    "df_age = df_age.sort_index()"
   ]
  },
  {
   "cell_type": "markdown",
   "id": "42d79081-7e75-4b4c-935a-2fa4e081b86d",
   "metadata": {},
   "source": [
    "*Vamos aplicar os filtros que corresponderá aos cargos que definimos (enfermeiras) e vamos criar o gráfico para que seja analisada qual foi o saldo entre contratações de desligamentos. Vamos fazer isso para algumas capitais Brasileiras*"
   ]
  },
  {
   "cell_type": "code",
   "execution_count": 41,
   "id": "53e0c66c-ba43-497a-85eb-8adef14ca7ee",
   "metadata": {
    "tags": []
   },
   "outputs": [
    {
     "data": {
      "image/png": "[encoded data removed]",
      "text/plain": [
       "<Figure size 800x500 with 1 Axes>"
      ]
     },
     "metadata": {},
     "output_type": "display_data"
    }
   ],
   "source": [
    "plt.figure(figsize=(8, 5))\n",
    "plt.bar(df_age['faixa_etaria'], df_age['Saldo_Contratações'], color='skyblue')\n",
    "for x, y in zip(df_age['faixa_etaria'], df_age['Saldo_Contratações']):\n",
    "        plt.text(x, y, f\"{y}\", fontsize=9, va='bottom', ha='center') \n",
    "plt.title('Contratações por Faixa etária')\n",
    "plt.xlabel('Faixa etária')\n",
    "plt.ylabel('Saldo de Contratações')\n",
    "plt.show()"
   ]
  },
  {
   "cell_type": "markdown",
   "id": "85faf751-f8da-4159-a6d4-bb4f4ff1d9f5",
   "metadata": {},
   "source": [
    "### Gráficos novos, conforme solicitado no enunciado"
   ]
  },
  {
   "cell_type": "code",
   "execution_count": 42,
   "id": "6de3c5b5-c4d8-42d2-aa0f-b7ee98be296d",
   "metadata": {
    "tags": []
   },
   "outputs": [],
   "source": [
    "df_salary_state_year = df_hiring_state.filter(F.col('cbo2002ocupação').isin(employee_filter)) \\\n",
    "                         .filter(F.col('município').isin(city_filter)) \\\n",
    "                         .groupBy('município', 'Ano') \\\n",
    "                         .agg(F.avg('salário').alias('Média_Salarial'))"
   ]
  },
  {
   "cell_type": "code",
   "execution_count": null,
   "id": "1f88fb6b-a8d1-48a4-87a6-7b9be886ef62",
   "metadata": {
    "tags": []
   },
   "outputs": [
    {
     "name": "stderr",
     "output_type": "stream",
     "text": [
      "[Stage 188:======================================>              (80 + 16) / 109]\r"
     ]
    }
   ],
   "source": [
    "df_salary_state_year_pd = df_salary_state_year.toPandas()\n"
   ]
  },
  {
   "cell_type": "code",
   "execution_count": null,
   "id": "fdbfb629-4b1f-4866-a6c9-01a2e08ec303",
   "metadata": {
    "tags": []
   },
   "outputs": [],
   "source": [
    "plt.figure(figsize=(14, 8))\n",
    "unique_city = df_salary_state_year_pd['município'].unique()\n",
    "unique_years = sorted(df_salary_state_year_pd['Ano'].unique())\n",
    "for city in unique_city:\n",
    "    subset = df_salary_state_year_pd[df_salary_state_year_pd['município'] == city]\n",
    "    plt.plot(subset['Ano'], subset['Média_Salarial'], marker='o', label=f\"Capital: {city}\")\n",
    "    for x, y in zip(subset['Ano'], subset['Média_Salarial']):\n",
    "        plt.text(x, y, f\"{y:.2f}\", fontsize=9, ha='right')\n",
    "plt.xlabel('Ano')\n",
    "plt.ylabel('Média Salarial')\n",
    "plt.title('Média Salarial por Capital e Ano')\n",
    "plt.xticks(unique_years)\n",
    "plt.legend()\n",
    "plt.show()"
   ]
  },
  {
   "cell_type": "code",
   "execution_count": null,
   "id": "2a718c4d-f28d-4674-8389-84573e2e18bc",
   "metadata": {
    "tags": []
   },
   "outputs": [],
   "source": [
    "df_old_avg = df_hiring_state.withColumn('capital', F.col('município')).groupBy('capital').agg(F.avg('idade').alias('media_idade'))\n",
    "df_old_avg_pd = df_old_avg.toPandas()"
   ]
  },
  {
   "cell_type": "code",
   "execution_count": null,
   "id": "b143fcbc-0eaf-48ba-95df-492785bb4f4c",
   "metadata": {
    "tags": []
   },
   "outputs": [],
   "source": [
    "plt.figure(figsize=(10, 6))\n",
    "plt.barh(df_old_avg_pd['capital'], df_old_avg_pd['media_idade'], color='skyblue')\n",
    "plt.xlabel('Média de Idade')\n",
    "plt.title('Média de Idade nas Capitais')\n",
    "plt.gca().invert_yaxis()\n",
    "plt.grid(axis='x', linestyle='--', alpha=0.6)\n",
    "for i, v in enumerate(df_old_avg_pd['media_idade']):\n",
    "    plt.text(v + 0.5, i, f'{v:.2f}', va='center', fontsize=12, fontweight='bold', color='gray')\n",
    "\n",
    "plt.show()"
   ]
  },
  {
   "cell_type": "code",
   "execution_count": null,
   "id": "d57d64b5-2094-4619-9c43-132b555bdb90",
   "metadata": {},
   "outputs": [],
   "source": []
  }
 ],
 "metadata": {
  "kernelspec": {
   "display_name": "Python 3 (ipykernel)",
   "language": "python",
   "name": "python3"
  },
  "language_info": {
   "codemirror_mode": {
    "name": "ipython",
    "version": 3
   },
   "file_extension": ".py",
   "mimetype": "text/x-python",
   "name": "python",
   "nbconvert_exporter": "python",
   "pygments_lexer": "ipython3",
   "version": "3.10.11"
  }
 },
 "nbformat": 4,
 "nbformat_minor": 5
}
